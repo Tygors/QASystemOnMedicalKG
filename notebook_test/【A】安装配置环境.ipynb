{
 "cells": [
  {
   "cell_type": "markdown",
   "metadata": {},
   "source": [
    "# 安装配置环境"
   ]
  },
  {
   "cell_type": "markdown",
   "metadata": {},
   "source": [
    "## 1.docker 安装 Neo4j"
   ]
  },
  {
   "cell_type": "markdown",
   "metadata": {},
   "source": [
    "docker pull neo4j:latest\n",
    "\n",
    "docker run -d -p 7473:7473 -p 7474:7474 -p 7687:7687 --name neo4j_vol neo4j:latest"
   ]
  },
  {
   "cell_type": "markdown",
   "metadata": {},
   "source": [
    "## 2.启动DBMS，在浏览器中访问`localhost:7474`"
   ]
  },
  {
   "cell_type": "markdown",
   "metadata": {},
   "source": [
    "#### 初始账密为neo4j, neo4j。此处我修改pwd为neo4jneo4j"
   ]
  },
  {
   "cell_type": "markdown",
   "metadata": {},
   "source": [
    "## 3.安装配置Python\n",
    "\n",
    "### 3.1安装基础环境\n",
    "\n",
    "视频：【Windows安装配置Python】https://www.bilibili.com/video/BV1P5411W7g5?p=2\n",
    "\n",
    "视频：【MacOS安装配置Python】https://www.bilibili.com/video/BV1P5411W7g5?p=3\n",
    "\n",
    "视频：【python数据分析神器Jupyter notebook快速入门】https://www.bilibili.com/video/BV1Q4411H7fJ"
   ]
  },
  {
   "cell_type": "markdown",
   "metadata": {},
   "source": [
    "### 3.2安装第三方库"
   ]
  },
  {
   "cell_type": "code",
   "execution_count": null,
   "metadata": {},
   "outputs": [],
   "source": [
    "!pip install py2neo pyahocorasick numpy pandas -i https://pypi.tuna.tsinghua.edu.cn/simple/"
   ]
  },
  {
   "cell_type": "markdown",
   "metadata": {},
   "source": [
    "### 3.3验证安装成功"
   ]
  },
  {
   "cell_type": "code",
   "execution_count": 2,
   "metadata": {},
   "outputs": [],
   "source": [
    "# 验证安装成功\n",
    "from py2neo import Graph\n",
    "\n",
    "# 注意，这里的用户名为neo4j全局用户名，而非DBMS或者database的名称\n",
    "g = Graph(auth=('neo4j', 'neo4jneo4j'))"
   ]
  },
  {
   "cell_type": "code",
   "execution_count": null,
   "metadata": {},
   "outputs": [],
   "source": []
  }
 ],
 "metadata": {
  "kernelspec": {
   "display_name": "paddle3.7",
   "language": "python",
   "name": "python3"
  },
  "language_info": {
   "codemirror_mode": {
    "name": "ipython",
    "version": 3
   },
   "file_extension": ".py",
   "mimetype": "text/x-python",
   "name": "python",
   "nbconvert_exporter": "python",
   "pygments_lexer": "ipython3",
   "version": "3.7.16"
  }
 },
 "nbformat": 4,
 "nbformat_minor": 4
}
