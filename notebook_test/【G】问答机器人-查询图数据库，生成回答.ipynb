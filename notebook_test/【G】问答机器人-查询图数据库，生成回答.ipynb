{
 "cells": [
  {
   "cell_type": "markdown",
   "metadata": {},
   "source": [
    "## 上一个代码的输出"
   ]
  },
  {
   "cell_type": "code",
   "execution_count": 1,
   "metadata": {},
   "outputs": [],
   "source": [
    "sqls = [{'question_type': 'disease_acompany',\n",
    "  'sql': [\"MATCH (m:Disease)-[r:acompany_with]->(n:Disease) where m.name = '耳鸣' return m.name, r.name, n.name\",\n",
    "   \"MATCH (m:Disease)-[r:acompany_with]->(n:Disease) where m.name = '百日咳' return m.name, r.name, n.name\",\n",
    "   \"MATCH (m:Disease)-[r:acompany_with]->(n:Disease) where n.name = '耳鸣' return m.name, r.name, n.name\",\n",
    "   \"MATCH (m:Disease)-[r:acompany_with]->(n:Disease) where n.name = '百日咳' return m.name, r.name, n.name\"]},\n",
    " {'question_type': 'disease_do_food',\n",
    "  'sql': [\"MATCH (m:Disease)-[r:do_eat]->(n:Food) where m.name = '耳鸣' return m.name, r.name, n.name\",\n",
    "   \"MATCH (m:Disease)-[r:do_eat]->(n:Food) where m.name = '百日咳' return m.name, r.name, n.name\",\n",
    "   \"MATCH (m:Disease)-[r:recommand_eat]->(n:Food) where m.name = '耳鸣' return m.name, r.name, n.name\",\n",
    "   \"MATCH (m:Disease)-[r:recommand_eat]->(n:Food) where m.name = '百日咳' return m.name, r.name, n.name\"]}]"
   ]
  },
  {
   "cell_type": "code",
   "execution_count": 2,
   "metadata": {},
   "outputs": [],
   "source": [
    "from py2neo import Graph"
   ]
  },
  {
   "cell_type": "markdown",
   "metadata": {},
   "source": [
    "## 连接图数据库"
   ]
  },
  {
   "cell_type": "code",
   "execution_count": 3,
   "metadata": {},
   "outputs": [],
   "source": [
    "g = Graph(auth=(\"neo4j\", \"neo4jneo4j\"))"
   ]
  },
  {
   "cell_type": "code",
   "execution_count": 4,
   "metadata": {},
   "outputs": [],
   "source": [
    "num_limit = 20"
   ]
  },
  {
   "cell_type": "code",
   "execution_count": 5,
   "metadata": {},
   "outputs": [],
   "source": [
    "final_answers = []"
   ]
  },
  {
   "cell_type": "code",
   "execution_count": 6,
   "metadata": {},
   "outputs": [
    {
     "data": {
      "text/plain": [
       "[{'question_type': 'disease_acompany',\n",
       "  'sql': [\"MATCH (m:Disease)-[r:acompany_with]->(n:Disease) where m.name = '耳鸣' return m.name, r.name, n.name\",\n",
       "   \"MATCH (m:Disease)-[r:acompany_with]->(n:Disease) where m.name = '百日咳' return m.name, r.name, n.name\",\n",
       "   \"MATCH (m:Disease)-[r:acompany_with]->(n:Disease) where n.name = '耳鸣' return m.name, r.name, n.name\",\n",
       "   \"MATCH (m:Disease)-[r:acompany_with]->(n:Disease) where n.name = '百日咳' return m.name, r.name, n.name\"]},\n",
       " {'question_type': 'disease_do_food',\n",
       "  'sql': [\"MATCH (m:Disease)-[r:do_eat]->(n:Food) where m.name = '耳鸣' return m.name, r.name, n.name\",\n",
       "   \"MATCH (m:Disease)-[r:do_eat]->(n:Food) where m.name = '百日咳' return m.name, r.name, n.name\",\n",
       "   \"MATCH (m:Disease)-[r:recommand_eat]->(n:Food) where m.name = '耳鸣' return m.name, r.name, n.name\",\n",
       "   \"MATCH (m:Disease)-[r:recommand_eat]->(n:Food) where m.name = '百日咳' return m.name, r.name, n.name\"]}]"
      ]
     },
     "execution_count": 6,
     "metadata": {},
     "output_type": "execute_result"
    }
   ],
   "source": [
    "sqls"
   ]
  },
  {
   "cell_type": "code",
   "execution_count": 7,
   "metadata": {},
   "outputs": [],
   "source": [
    "'''根据对应的qustion_type，调用相应的回复模板'''\n",
    "def answer_prettify(question_type, answers):\n",
    "    final_answer = []\n",
    "    if not answers:\n",
    "        return ''\n",
    "    if question_type == 'disease_symptom':\n",
    "        desc = [i['n.name'] for i in answers]\n",
    "        subject = answers[0]['m.name']\n",
    "        final_answer = '{0}的症状包括：{1}'.format(subject, '；'.join(list(set(desc))[:num_limit]))\n",
    "\n",
    "    elif question_type == 'symptom_disease':\n",
    "        desc = [i['m.name'] for i in answers]\n",
    "        subject = answers[0]['n.name']\n",
    "        final_answer = '症状{0}可能染上的疾病有：{1}'.format(subject, '；'.join(list(set(desc))[:num_limit]))\n",
    "\n",
    "    elif question_type == 'disease_cause':\n",
    "        desc = [i['m.cause'] for i in answers]\n",
    "        subject = answers[0]['m.name']\n",
    "        final_answer = '{0}可能的成因有：{1}'.format(subject, '；'.join(list(set(desc))[:num_limit]))\n",
    "\n",
    "    elif question_type == 'disease_prevent':\n",
    "        desc = [i['m.prevent'] for i in answers]\n",
    "        subject = answers[0]['m.name']\n",
    "        final_answer = '{0}的预防措施包括：{1}'.format(subject, '；'.join(list(set(desc))[:num_limit]))\n",
    "\n",
    "    elif question_type == 'disease_lasttime':\n",
    "        desc = [i['m.cure_lasttime'] for i in answers]\n",
    "        subject = answers[0]['m.name']\n",
    "        final_answer = '{0}治疗可能持续的周期为：{1}'.format(subject, '；'.join(list(set(desc))[:num_limit]))\n",
    "\n",
    "    elif question_type == 'disease_cureway':\n",
    "        desc = [';'.join(i['m.cure_way']) for i in answers]\n",
    "        subject = answers[0]['m.name']\n",
    "        final_answer = '{0}可以尝试如下治疗：{1}'.format(subject, '；'.join(list(set(desc))[:num_limit]))\n",
    "\n",
    "    elif question_type == 'disease_cureprob':\n",
    "        desc = [i['m.cured_prob'] for i in answers]\n",
    "        subject = answers[0]['m.name']\n",
    "        final_answer = '{0}治愈的概率为（仅供参考）：{1}'.format(subject, '；'.join(list(set(desc))[:num_limit]))\n",
    "\n",
    "    elif question_type == 'disease_easyget':\n",
    "        desc = [i['m.easy_get'] for i in answers]\n",
    "        subject = answers[0]['m.name']\n",
    "\n",
    "        final_answer = '{0}的易感人群包括：{1}'.format(subject, '；'.join(list(set(desc))[:num_limit]))\n",
    "\n",
    "    elif question_type == 'disease_desc':\n",
    "        desc = [i['m.desc'] for i in answers]\n",
    "        subject = answers[0]['m.name']\n",
    "        final_answer = '{0},熟悉一下：{1}'.format(subject,  '；'.join(list(set(desc))[:num_limit]))\n",
    "\n",
    "    elif question_type == 'disease_acompany':\n",
    "        desc1 = [i['n.name'] for i in answers]\n",
    "        desc2 = [i['m.name'] for i in answers]\n",
    "        subject = answers[0]['m.name']\n",
    "        desc = [i for i in desc1 + desc2 if i != subject]\n",
    "        final_answer = '{0}的症状包括：{1}'.format(subject, '；'.join(list(set(desc))[:num_limit]))\n",
    "\n",
    "    elif question_type == 'disease_not_food':\n",
    "        desc = [i['n.name'] for i in answers]\n",
    "        subject = answers[0]['m.name']\n",
    "        final_answer = '{0}忌食的食物包括有：{1}'.format(subject, '；'.join(list(set(desc))[:num_limit]))\n",
    "\n",
    "    elif question_type == 'disease_do_food':\n",
    "        do_desc = [i['n.name'] for i in answers if i['r.name'] == '宜吃']\n",
    "        recommand_desc = [i['n.name'] for i in answers if i['r.name'] == '推荐食谱']\n",
    "        subject = answers[0]['m.name']\n",
    "        final_answer = '{0}宜食的食物包括有：{1}\\n推荐食谱包括有：{2}'.format(subject, ';'.join(list(set(do_desc))[:num_limit]), ';'.join(list(set(recommand_desc))[:num_limit]))\n",
    "\n",
    "    elif question_type == 'food_not_disease':\n",
    "        desc = [i['m.name'] for i in answers]\n",
    "        subject = answers[0]['n.name']\n",
    "        final_answer = '患有{0}的人最好不要吃{1}'.format('；'.join(list(set(desc))[:num_limit]), subject)\n",
    "\n",
    "    elif question_type == 'food_do_disease':\n",
    "        desc = [i['m.name'] for i in answers]\n",
    "        subject = answers[0]['n.name']\n",
    "        final_answer = '患有{0}的人建议多试试{1}'.format('；'.join(list(set(desc))[:num_limit]), subject)\n",
    "\n",
    "    elif question_type == 'disease_drug':\n",
    "        desc = [i['n.name'] for i in answers]\n",
    "        subject = answers[0]['m.name']\n",
    "        final_answer = '{0}通常的使用的药品包括：{1}'.format(subject, '；'.join(list(set(desc))[:num_limit]))\n",
    "\n",
    "    elif question_type == 'drug_disease':\n",
    "        desc = [i['m.name'] for i in answers]\n",
    "        subject = answers[0]['n.name']\n",
    "        final_answer = '{0}主治的疾病有{1},可以试试'.format(subject, '；'.join(list(set(desc))[:num_limit]))\n",
    "\n",
    "    elif question_type == 'disease_check':\n",
    "        desc = [i['n.name'] for i in answers]\n",
    "        subject = answers[0]['m.name']\n",
    "        final_answer = '{0}通常可以通过以下方式检查出来：{1}'.format(subject, '；'.join(list(set(desc))[:num_limit]))\n",
    "\n",
    "    elif question_type == 'check_disease':\n",
    "        desc = [i['m.name'] for i in answers]\n",
    "        subject = answers[0]['n.name']\n",
    "        final_answer = '通常可以通过{0}检查出来的疾病有{1}'.format(subject, '；'.join(list(set(desc))[:num_limit]))\n",
    "\n",
    "    return final_answer"
   ]
  },
  {
   "cell_type": "code",
   "execution_count": 8,
   "metadata": {},
   "outputs": [
    {
     "name": "stdout",
     "output_type": "stream",
     "text": [
      "MATCH (m:Disease)-[r:acompany_with]->(n:Disease) where m.name = '耳鸣' return m.name, r.name, n.name\n",
      "[{'m.name': '耳鸣', 'r.name': '并发症', 'n.name': '咽鼓管阻塞'}]\n",
      "---------\n",
      "MATCH (m:Disease)-[r:acompany_with]->(n:Disease) where m.name = '百日咳' return m.name, r.name, n.name\n",
      "[{'m.name': '百日咳', 'r.name': '并发症', 'n.name': '肺不张'}]\n",
      "---------\n",
      "MATCH (m:Disease)-[r:acompany_with]->(n:Disease) where n.name = '耳鸣' return m.name, r.name, n.name\n",
      "[{'m.name': '偏头痛', 'r.name': '并发症', 'n.name': '耳鸣'}, {'m.name': '鼻咽血管纤维瘤', 'r.name': '并发症', 'n.name': '耳鸣'}, {'m.name': '间断脉冲噪音损伤', 'r.name': '并发症', 'n.name': '耳鸣'}, {'m.name': '潜水性内耳损伤', 'r.name': '并发症', 'n.name': '耳鸣'}, {'m.name': '咽肌痉挛', 'r.name': '并发症', 'n.name': '耳鸣'}, {'m.name': '咽部硬结病', 'r.name': '并发症', 'n.name': '耳鸣'}, {'m.name': '噪声性耳聋', 'r.name': '并发症', 'n.name': '耳鸣'}, {'m.name': '中毒性眩晕', 'r.name': '并发症', 'n.name': '耳鸣'}, {'m.name': '颞下颌关节紊乱综合征', 'r.name': '并发症', 'n.name': '耳鸣'}, {'m.name': '乳突炎', 'r.name': '并发症', 'n.name': '耳鸣'}, {'m.name': '空调病', 'r.name': '并发症', 'n.name': '耳鸣'}, {'m.name': '药物性耳聋', 'r.name': '并发症', 'n.name': '耳鸣'}, {'m.name': '脑血管痉挛', 'r.name': '并发症', 'n.name': '耳鸣'}, {'m.name': '颞下颌关节病', 'r.name': '并发症', 'n.name': '耳鸣'}, {'m.name': '听力障碍', 'r.name': '并发症', 'n.name': '耳鸣'}, {'m.name': '脑鸣', 'r.name': '并发症', 'n.name': '耳鸣'}, {'m.name': '肾气不固', 'r.name': '并发症', 'n.name': '耳鸣'}, {'m.name': '肾虚腰痛', 'r.name': '并发症', 'n.name': '耳鸣'}, {'m.name': '四肢不用', 'r.name': '并发症', 'n.name': '耳鸣'}, {'m.name': '头风病', 'r.name': '并发症', 'n.name': '耳鸣'}, {'m.name': '上干型胸廓出口综合征', 'r.name': '并发症', 'n.name': '耳鸣'}]\n",
      "---------\n",
      "MATCH (m:Disease)-[r:acompany_with]->(n:Disease) where n.name = '百日咳' return m.name, r.name, n.name\n",
      "[{'m.name': '维生素A摄入过多', 'r.name': '并发症', 'n.name': '百日咳'}, {'m.name': '小儿咳嗽', 'r.name': '并发症', 'n.name': '百日咳'}]\n",
      "---------\n",
      "[{'m.name': '耳鸣', 'r.name': '并发症', 'n.name': '咽鼓管阻塞'}, {'m.name': '百日咳', 'r.name': '并发症', 'n.name': '肺不张'}, {'m.name': '偏头痛', 'r.name': '并发症', 'n.name': '耳鸣'}, {'m.name': '鼻咽血管纤维瘤', 'r.name': '并发症', 'n.name': '耳鸣'}, {'m.name': '间断脉冲噪音损伤', 'r.name': '并发症', 'n.name': '耳鸣'}, {'m.name': '潜水性内耳损伤', 'r.name': '并发症', 'n.name': '耳鸣'}, {'m.name': '咽肌痉挛', 'r.name': '并发症', 'n.name': '耳鸣'}, {'m.name': '咽部硬结病', 'r.name': '并发症', 'n.name': '耳鸣'}, {'m.name': '噪声性耳聋', 'r.name': '并发症', 'n.name': '耳鸣'}, {'m.name': '中毒性眩晕', 'r.name': '并发症', 'n.name': '耳鸣'}, {'m.name': '颞下颌关节紊乱综合征', 'r.name': '并发症', 'n.name': '耳鸣'}, {'m.name': '乳突炎', 'r.name': '并发症', 'n.name': '耳鸣'}, {'m.name': '空调病', 'r.name': '并发症', 'n.name': '耳鸣'}, {'m.name': '药物性耳聋', 'r.name': '并发症', 'n.name': '耳鸣'}, {'m.name': '脑血管痉挛', 'r.name': '并发症', 'n.name': '耳鸣'}, {'m.name': '颞下颌关节病', 'r.name': '并发症', 'n.name': '耳鸣'}, {'m.name': '听力障碍', 'r.name': '并发症', 'n.name': '耳鸣'}, {'m.name': '脑鸣', 'r.name': '并发症', 'n.name': '耳鸣'}, {'m.name': '肾气不固', 'r.name': '并发症', 'n.name': '耳鸣'}, {'m.name': '肾虚腰痛', 'r.name': '并发症', 'n.name': '耳鸣'}, {'m.name': '四肢不用', 'r.name': '并发症', 'n.name': '耳鸣'}, {'m.name': '头风病', 'r.name': '并发症', 'n.name': '耳鸣'}, {'m.name': '上干型胸廓出口综合征', 'r.name': '并发症', 'n.name': '耳鸣'}, {'m.name': '维生素A摄入过多', 'r.name': '并发症', 'n.name': '百日咳'}, {'m.name': '小儿咳嗽', 'r.name': '并发症', 'n.name': '百日咳'}]\n",
      "**********\n",
      "耳鸣的症状包括：上干型胸廓出口综合征；颞下颌关节病；颞下颌关节紊乱综合征；空调病；脑血管痉挛；咽肌痉挛；潜水性内耳损伤；药物性耳聋；中毒性眩晕；脑鸣；肺不张；听力障碍；乳突炎；间断脉冲噪音损伤；四肢不用；头风病；肾虚腰痛；咽鼓管阻塞；咽部硬结病；噪声性耳聋\n",
      "MATCH (m:Disease)-[r:do_eat]->(n:Food) where m.name = '耳鸣' return m.name, r.name, n.name\n",
      "[{'m.name': '耳鸣', 'r.name': '宜吃', 'n.name': '芝麻'}, {'m.name': '耳鸣', 'r.name': '宜吃', 'n.name': '南瓜子仁'}, {'m.name': '耳鸣', 'r.name': '宜吃', 'n.name': '腰果'}, {'m.name': '耳鸣', 'r.name': '宜吃', 'n.name': '鸡翅'}]\n",
      "---------\n",
      "MATCH (m:Disease)-[r:do_eat]->(n:Food) where m.name = '百日咳' return m.name, r.name, n.name\n",
      "[{'m.name': '百日咳', 'r.name': '宜吃', 'n.name': '小白菜'}, {'m.name': '百日咳', 'r.name': '宜吃', 'n.name': '樱桃番茄'}, {'m.name': '百日咳', 'r.name': '宜吃', 'n.name': '圆白菜'}, {'m.name': '百日咳', 'r.name': '宜吃', 'n.name': '南瓜子仁'}]\n",
      "---------\n",
      "MATCH (m:Disease)-[r:recommand_eat]->(n:Food) where m.name = '耳鸣' return m.name, r.name, n.name\n",
      "[{'m.name': '耳鸣', 'r.name': '推荐食谱', 'n.name': '羊肉汤面'}, {'m.name': '耳鸣', 'r.name': '推荐食谱', 'n.name': '乌药羊肉汤'}, {'m.name': '耳鸣', 'r.name': '推荐食谱', 'n.name': '栗子鸡翅'}, {'m.name': '耳鸣', 'r.name': '推荐食谱', 'n.name': '可乐鸡翅'}, {'m.name': '耳鸣', 'r.name': '推荐食谱', 'n.name': '紫菜鸡蛋莲草汤'}, {'m.name': '耳鸣', 'r.name': '推荐食谱', 'n.name': '紫菜芙蓉汤'}, {'m.name': '耳鸣', 'r.name': '推荐食谱', 'n.name': '冬菇油菜心'}, {'m.name': '耳鸣', 'r.name': '推荐食谱', 'n.name': '油豆腐油菜'}]\n",
      "---------\n",
      "MATCH (m:Disease)-[r:recommand_eat]->(n:Food) where m.name = '百日咳' return m.name, r.name, n.name\n",
      "[{'m.name': '百日咳', 'r.name': '推荐食谱', 'n.name': '黄瓜拌皮丝'}, {'m.name': '百日咳', 'r.name': '推荐食谱', 'n.name': '黄瓜拌兔丝'}, {'m.name': '百日咳', 'r.name': '推荐食谱', 'n.name': '黄瓜三丝汤'}, {'m.name': '百日咳', 'r.name': '推荐食谱', 'n.name': '小黄瓜凉拌面'}, {'m.name': '百日咳', 'r.name': '推荐食谱', 'n.name': '罗汉果雪耳鸡汤'}, {'m.name': '百日咳', 'r.name': '推荐食谱', 'n.name': '排骨汤'}, {'m.name': '百日咳', 'r.name': '推荐食谱', 'n.name': '百合双耳鸡蛋羹'}, {'m.name': '百日咳', 'r.name': '推荐食谱', 'n.name': '清蒸鸡蛋羹'}]\n",
      "---------\n",
      "[{'m.name': '耳鸣', 'r.name': '宜吃', 'n.name': '芝麻'}, {'m.name': '耳鸣', 'r.name': '宜吃', 'n.name': '南瓜子仁'}, {'m.name': '耳鸣', 'r.name': '宜吃', 'n.name': '腰果'}, {'m.name': '耳鸣', 'r.name': '宜吃', 'n.name': '鸡翅'}, {'m.name': '百日咳', 'r.name': '宜吃', 'n.name': '小白菜'}, {'m.name': '百日咳', 'r.name': '宜吃', 'n.name': '樱桃番茄'}, {'m.name': '百日咳', 'r.name': '宜吃', 'n.name': '圆白菜'}, {'m.name': '百日咳', 'r.name': '宜吃', 'n.name': '南瓜子仁'}, {'m.name': '耳鸣', 'r.name': '推荐食谱', 'n.name': '羊肉汤面'}, {'m.name': '耳鸣', 'r.name': '推荐食谱', 'n.name': '乌药羊肉汤'}, {'m.name': '耳鸣', 'r.name': '推荐食谱', 'n.name': '栗子鸡翅'}, {'m.name': '耳鸣', 'r.name': '推荐食谱', 'n.name': '可乐鸡翅'}, {'m.name': '耳鸣', 'r.name': '推荐食谱', 'n.name': '紫菜鸡蛋莲草汤'}, {'m.name': '耳鸣', 'r.name': '推荐食谱', 'n.name': '紫菜芙蓉汤'}, {'m.name': '耳鸣', 'r.name': '推荐食谱', 'n.name': '冬菇油菜心'}, {'m.name': '耳鸣', 'r.name': '推荐食谱', 'n.name': '油豆腐油菜'}, {'m.name': '百日咳', 'r.name': '推荐食谱', 'n.name': '黄瓜拌皮丝'}, {'m.name': '百日咳', 'r.name': '推荐食谱', 'n.name': '黄瓜拌兔丝'}, {'m.name': '百日咳', 'r.name': '推荐食谱', 'n.name': '黄瓜三丝汤'}, {'m.name': '百日咳', 'r.name': '推荐食谱', 'n.name': '小黄瓜凉拌面'}, {'m.name': '百日咳', 'r.name': '推荐食谱', 'n.name': '罗汉果雪耳鸡汤'}, {'m.name': '百日咳', 'r.name': '推荐食谱', 'n.name': '排骨汤'}, {'m.name': '百日咳', 'r.name': '推荐食谱', 'n.name': '百合双耳鸡蛋羹'}, {'m.name': '百日咳', 'r.name': '推荐食谱', 'n.name': '清蒸鸡蛋羹'}]\n",
      "**********\n",
      "耳鸣宜食的食物包括有：樱桃番茄;鸡翅;芝麻;小白菜;南瓜子仁;圆白菜;腰果\n",
      "推荐食谱包括有：冬菇油菜心;小黄瓜凉拌面;黄瓜拌兔丝;紫菜鸡蛋莲草汤;黄瓜拌皮丝;黄瓜三丝汤;百合双耳鸡蛋羹;紫菜芙蓉汤;可乐鸡翅;罗汉果雪耳鸡汤;栗子鸡翅;油豆腐油菜;羊肉汤面;清蒸鸡蛋羹;乌药羊肉汤;排骨汤\n"
     ]
    }
   ],
   "source": [
    "for sql_ in sqls:\n",
    "    question_type = sql_['question_type']\n",
    "    queries = sql_['sql']\n",
    "    answers = []\n",
    "    \n",
    "    \n",
    "    for query in queries: # 运行每一条cypher查询语句\n",
    "        print(query)\n",
    "        ress = g.run(query).data()\n",
    "        print(ress)\n",
    "        print(\"---------\")\n",
    "        answers += ress\n",
    "    print(answers)\n",
    "    final_answer = answer_prettify(question_type, answers)\n",
    "    print(\"**********\")\n",
    "    print(final_answer)\n",
    "    if final_answer:\n",
    "        final_answers.append(final_answer)"
   ]
  },
  {
   "cell_type": "code",
   "execution_count": 9,
   "metadata": {},
   "outputs": [
    {
     "data": {
      "text/plain": [
       "[{'m.name': '百日咳', 'r.name': '推荐食谱', 'n.name': '黄瓜拌皮丝'},\n",
       " {'m.name': '百日咳', 'r.name': '推荐食谱', 'n.name': '黄瓜拌兔丝'},\n",
       " {'m.name': '百日咳', 'r.name': '推荐食谱', 'n.name': '黄瓜三丝汤'},\n",
       " {'m.name': '百日咳', 'r.name': '推荐食谱', 'n.name': '小黄瓜凉拌面'},\n",
       " {'m.name': '百日咳', 'r.name': '推荐食谱', 'n.name': '罗汉果雪耳鸡汤'},\n",
       " {'m.name': '百日咳', 'r.name': '推荐食谱', 'n.name': '排骨汤'},\n",
       " {'m.name': '百日咳', 'r.name': '推荐食谱', 'n.name': '百合双耳鸡蛋羹'},\n",
       " {'m.name': '百日咳', 'r.name': '推荐食谱', 'n.name': '清蒸鸡蛋羹'}]"
      ]
     },
     "execution_count": 9,
     "metadata": {},
     "output_type": "execute_result"
    }
   ],
   "source": [
    "ress"
   ]
  },
  {
   "cell_type": "code",
   "execution_count": 10,
   "metadata": {},
   "outputs": [
    {
     "data": {
      "text/plain": [
       "'耳鸣宜食的食物包括有：樱桃番茄;鸡翅;芝麻;小白菜;南瓜子仁;圆白菜;腰果\\n推荐食谱包括有：冬菇油菜心;小黄瓜凉拌面;黄瓜拌兔丝;紫菜鸡蛋莲草汤;黄瓜拌皮丝;黄瓜三丝汤;百合双耳鸡蛋羹;紫菜芙蓉汤;可乐鸡翅;罗汉果雪耳鸡汤;栗子鸡翅;油豆腐油菜;羊肉汤面;清蒸鸡蛋羹;乌药羊肉汤;排骨汤'"
      ]
     },
     "execution_count": 10,
     "metadata": {},
     "output_type": "execute_result"
    }
   ],
   "source": [
    "final_answer"
   ]
  },
  {
   "cell_type": "code",
   "execution_count": 11,
   "metadata": {},
   "outputs": [
    {
     "data": {
      "text/plain": [
       "['耳鸣的症状包括：上干型胸廓出口综合征；颞下颌关节病；颞下颌关节紊乱综合征；空调病；脑血管痉挛；咽肌痉挛；潜水性内耳损伤；药物性耳聋；中毒性眩晕；脑鸣；肺不张；听力障碍；乳突炎；间断脉冲噪音损伤；四肢不用；头风病；肾虚腰痛；咽鼓管阻塞；咽部硬结病；噪声性耳聋',\n",
       " '耳鸣宜食的食物包括有：樱桃番茄;鸡翅;芝麻;小白菜;南瓜子仁;圆白菜;腰果\\n推荐食谱包括有：冬菇油菜心;小黄瓜凉拌面;黄瓜拌兔丝;紫菜鸡蛋莲草汤;黄瓜拌皮丝;黄瓜三丝汤;百合双耳鸡蛋羹;紫菜芙蓉汤;可乐鸡翅;罗汉果雪耳鸡汤;栗子鸡翅;油豆腐油菜;羊肉汤面;清蒸鸡蛋羹;乌药羊肉汤;排骨汤']"
      ]
     },
     "execution_count": 11,
     "metadata": {},
     "output_type": "execute_result"
    }
   ],
   "source": [
    "final_answers"
   ]
  },
  {
   "cell_type": "code",
   "execution_count": null,
   "metadata": {},
   "outputs": [],
   "source": []
  },
  {
   "cell_type": "code",
   "execution_count": null,
   "metadata": {},
   "outputs": [],
   "source": []
  }
 ],
 "metadata": {
  "kernelspec": {
   "display_name": "paddle3.7",
   "language": "python",
   "name": "python3"
  },
  "language_info": {
   "codemirror_mode": {
    "name": "ipython",
    "version": 3
   },
   "file_extension": ".py",
   "mimetype": "text/x-python",
   "name": "python",
   "nbconvert_exporter": "python",
   "pygments_lexer": "ipython3",
   "version": "3.7.16"
  }
 },
 "nbformat": 4,
 "nbformat_minor": 4
}
